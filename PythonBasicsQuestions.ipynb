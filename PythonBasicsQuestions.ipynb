{
  "nbformat": 4,
  "nbformat_minor": 0,
  "metadata": {
    "kernelspec": {
      "display_name": "Python 3",
      "language": "python",
      "name": "python3"
    },
    "language_info": {
      "codemirror_mode": {
        "name": "ipython",
        "version": 3
      },
      "file_extension": ".py",
      "mimetype": "text/x-python",
      "name": "python",
      "nbconvert_exporter": "python",
      "pygments_lexer": "ipython3",
      "version": "3.6.5"
    },
    "colab": {
      "name": "PythonBasicsQuestions.ipynb",
      "provenance": [],
      "include_colab_link": true
    }
  },
  "cells": [
    {
      "cell_type": "markdown",
      "metadata": {
        "id": "view-in-github",
        "colab_type": "text"
      },
      "source": [
        "<a href=\"https://colab.research.google.com/github/saraswathykrk/python_proj/blob/main/PythonBasicsQuestions.ipynb\" target=\"_parent\"><img src=\"https://colab.research.google.com/assets/colab-badge.svg\" alt=\"Open In Colab\"/></a>"
      ]
    },
    {
      "cell_type": "markdown",
      "metadata": {
        "id": "CXVBcImDiUu5"
      },
      "source": [
        "# Python basics"
      ]
    },
    {
      "cell_type": "markdown",
      "metadata": {
        "collapsed": true,
        "id": "KGFSitpviUvE"
      },
      "source": [
        "### 1.Write a Python program to print the following string\n",
        "\n",
        "Sample String: \"Welcome to Python\"\n",
        "\n"
      ]
    },
    {
      "cell_type": "code",
      "metadata": {
        "id": "S-Cp3CmHiUvH"
      },
      "source": [
        ""
      ],
      "execution_count": null,
      "outputs": []
    },
    {
      "cell_type": "markdown",
      "metadata": {
        "id": "2btmH4FAiUvJ"
      },
      "source": [
        "### 1.1 In a “Hello, World!” program, a comment may look like this:"
      ]
    },
    {
      "cell_type": "code",
      "metadata": {
        "id": "CHYIEk8hiUvJ"
      },
      "source": [
        "# Print “Hello, World!” to console\n"
      ],
      "execution_count": null,
      "outputs": []
    },
    {
      "cell_type": "code",
      "metadata": {
        "id": "h3BRPTP3iUvK"
      },
      "source": [
        "# Define sharks variable as a list of strings ('hammer', 'white', 'fish', 'frilled', 'bullhead', 'requiem')\n",
        "\n",
        "\n",
        "# For loop that iterates over sharks list and prints each string item\n"
      ],
      "execution_count": null,
      "outputs": []
    },
    {
      "cell_type": "markdown",
      "metadata": {
        "id": "Hs3VBfUBiUvK"
      },
      "source": [
        "### 2.Write a Python Program to Add Two Numbers"
      ]
    },
    {
      "cell_type": "code",
      "metadata": {
        "id": "cKo3klBwiUvL"
      },
      "source": [
        "# initialise two varaibles\n",
        "\n",
        "\n",
        "# Add two numbers\n",
        "\n",
        "\n",
        "# Display the sum\n"
      ],
      "execution_count": null,
      "outputs": []
    },
    {
      "cell_type": "markdown",
      "metadata": {
        "id": "xl9NCxuDiUvL"
      },
      "source": [
        "### 3.Write a Python Program to Find the product of two numbers"
      ]
    },
    {
      "cell_type": "code",
      "metadata": {
        "id": "aBLNHo2EiUvM"
      },
      "source": [
        "# initialise two varaibles\n",
        "\n",
        "\n",
        "# multiply two numbers\n",
        "\n",
        "\n",
        "# Display the sum\n"
      ],
      "execution_count": null,
      "outputs": []
    },
    {
      "cell_type": "markdown",
      "metadata": {
        "id": "9sutCAg8iUvM"
      },
      "source": [
        "### 4.Write a python program to find the area of triangle given height and base of the triangle as 3 and 10."
      ]
    },
    {
      "cell_type": "code",
      "metadata": {
        "id": "pvK0LMODiUvO"
      },
      "source": [
        "# Area of the triangle A= 1/2(base * height)\n",
        "\n",
        "#given height=3 and base =10\n",
        "\n"
      ],
      "execution_count": null,
      "outputs": []
    },
    {
      "cell_type": "markdown",
      "metadata": {
        "id": "dCsNt-0UiUvO"
      },
      "source": [
        "### 5.Python Program to Swap Two Variables"
      ]
    },
    {
      "cell_type": "code",
      "metadata": {
        "id": "8dvWs90uiUvP"
      },
      "source": [
        "# initialise two varaibles\n",
        "\n",
        "\n",
        "\n",
        "# create a temporary variable and swap the values\n",
        "\n",
        "\n"
      ],
      "execution_count": null,
      "outputs": []
    },
    {
      "cell_type": "markdown",
      "metadata": {
        "id": "UCMFacHGiUvQ"
      },
      "source": [
        "## Section"
      ]
    },
    {
      "cell_type": "markdown",
      "metadata": {
        "collapsed": true,
        "id": "pWzFkT4hiUvQ"
      },
      "source": [
        "### 1.Write a python program to print datatype of a varaible"
      ]
    },
    {
      "cell_type": "code",
      "metadata": {
        "id": "0Xg3pgfiiUvQ"
      },
      "source": [
        "a = 1\n",
        "\n",
        "\n",
        "b = 2.0\n",
        "\n",
        "\n",
        "c = 1+2j\n"
      ],
      "execution_count": null,
      "outputs": []
    },
    {
      "cell_type": "markdown",
      "metadata": {
        "id": "9LHlgEhziUvR"
      },
      "source": [
        "### 2.Write a python program to extract an item or a range of items from a list.\n",
        "\n"
      ]
    },
    {
      "cell_type": "code",
      "metadata": {
        "id": "aUo7AZDCiUvS"
      },
      "source": [
        "a = [15,20,35,40,45,30,35,60]\n",
        "\n",
        "# Print the item at index 2\n",
        "\n",
        "# Print the first 3 items\n",
        "\n",
        "# Print the last 3 items\n",
        "\n",
        "# Start to third last item"
      ],
      "execution_count": null,
      "outputs": []
    },
    {
      "cell_type": "markdown",
      "metadata": {
        "id": "0w3cKIu3iUvT"
      },
      "source": [
        "### 3.Converting Floats to Integers\n"
      ]
    },
    {
      "cell_type": "code",
      "metadata": {
        "id": "fzLaYkariUvT"
      },
      "source": [
        "b = 125.0\n",
        "c = 390.8\n",
        "\n",
        "# Print the Integer values"
      ],
      "execution_count": null,
      "outputs": []
    },
    {
      "cell_type": "markdown",
      "metadata": {
        "id": "3nWxUHVjiUvT"
      },
      "source": [
        "### 4.Converting Numbers to Strings"
      ]
    },
    {
      "cell_type": "code",
      "metadata": {
        "id": "lIEX1OXpiUvT"
      },
      "source": [
        "a = 10\n",
        "\n",
        "print(a, \"is of type\", type(a))\n",
        "\n",
        "# Convert the value in a to a string and then print"
      ],
      "execution_count": null,
      "outputs": []
    },
    {
      "cell_type": "markdown",
      "metadata": {
        "id": "5zYO-OipiUvU"
      },
      "source": [
        "### 5.Converting Strings to Numbers"
      ]
    },
    {
      "cell_type": "code",
      "metadata": {
        "id": "767CaKm2iUvU"
      },
      "source": [
        "a = \"50\"\n",
        "b = \"108\"\n",
        "\n",
        "# Find the difference between a and b"
      ],
      "execution_count": null,
      "outputs": []
    },
    {
      "cell_type": "markdown",
      "metadata": {
        "id": "Hl9k-NnqiUvU"
      },
      "source": [
        "### 6.Converting list to Tuples"
      ]
    },
    {
      "cell_type": "code",
      "metadata": {
        "id": "RQ8pRWhNiUvU"
      },
      "source": [
        "myList = ['request', 'source', 'repository', 'branch']\n",
        "\n",
        "# Print myList to a Tuple"
      ],
      "execution_count": null,
      "outputs": []
    },
    {
      "cell_type": "markdown",
      "metadata": {
        "id": "MCG8Pd4qiUvV"
      },
      "source": [
        "### 7.Converting tuple to Lists"
      ]
    },
    {
      "cell_type": "code",
      "metadata": {
        "id": "8Eam7b0oiUvW"
      },
      "source": [
        "myTuple = ('blue', 'red', 'white')\n",
        "\n",
        "# Print myTuple to a List"
      ],
      "execution_count": null,
      "outputs": []
    },
    {
      "cell_type": "markdown",
      "metadata": {
        "collapsed": true,
        "id": "ooFHRbM-iUvX"
      },
      "source": [
        "### 8.converting strings to lists:"
      ]
    },
    {
      "cell_type": "code",
      "metadata": {
        "id": "EywoBx9GiUvX"
      },
      "source": [
        "myString = 'INSAID'\n",
        "\n",
        "# Convert myString to List\n"
      ],
      "execution_count": null,
      "outputs": []
    },
    {
      "cell_type": "markdown",
      "metadata": {
        "id": "BpoSQUG7iUvX"
      },
      "source": [
        "### 9.Assign different data types to a varibles"
      ]
    },
    {
      "cell_type": "code",
      "metadata": {
        "id": "CTuFjKQjiUvX"
      },
      "source": [
        "# Try string, float, boolean, list, tuple, dictionary"
      ],
      "execution_count": null,
      "outputs": []
    },
    {
      "cell_type": "markdown",
      "metadata": {
        "id": "cVK87pFLiUvY"
      },
      "source": [
        "## Section"
      ]
    },
    {
      "cell_type": "markdown",
      "metadata": {
        "collapsed": true,
        "id": "XSFwnaPUiUvY"
      },
      "source": [
        "### Print out a string that uses a formatter"
      ]
    },
    {
      "cell_type": "code",
      "metadata": {
        "id": "XTqz9QJqiUvY"
      },
      "source": [
        "# Print \"john has 5 cars.\" using formatter"
      ],
      "execution_count": null,
      "outputs": []
    },
    {
      "cell_type": "markdown",
      "metadata": {
        "id": "6fOuCCi6iUvY"
      },
      "source": [
        "### We can also assign a variable to be equal to the value of a string that has formatter placeholders:"
      ]
    },
    {
      "cell_type": "code",
      "metadata": {
        "id": "y4rfsI_fiUvZ"
      },
      "source": [
        "open_string = \"john likes {}.\"\n",
        "\n",
        "# Use format method to print the following output \"john likes open source.\"\n"
      ],
      "execution_count": null,
      "outputs": []
    },
    {
      "cell_type": "markdown",
      "metadata": {
        "id": "78I2TGlGiUvZ"
      },
      "source": [
        "### Using Formatters with Multiple Placeholders"
      ]
    },
    {
      "cell_type": "code",
      "metadata": {
        "id": "O4s2TlHfiUvZ"
      },
      "source": [
        "new_open_string = \"john likes {} {}.\"                      #2 {} placeholders\n",
        "# Pass 2 strings into format method, separated by a comma to get output \"john likes open-source software.\""
      ],
      "execution_count": null,
      "outputs": []
    },
    {
      "cell_type": "code",
      "metadata": {
        "id": "ggEd2rX2iUvZ"
      },
      "source": [
        "sammy_string = \"john loves {} {}, and has {} {}.\"                      #4 {} placeholders\n",
        "# Pass 4 strings into method to get output \"john loves open-source software, and has 5 balloons.\""
      ],
      "execution_count": null,
      "outputs": []
    },
    {
      "cell_type": "markdown",
      "metadata": {
        "id": "l2ZJLJiwiUva"
      },
      "source": [
        "### Reordering Formatters with Positional and Keyword Arguments\n"
      ]
    },
    {
      "cell_type": "code",
      "metadata": {
        "id": "8y_d5M7_iUva"
      },
      "source": [
        "# Reference sample\n",
        "print(\"john the {} has a pet {}!\".format(\"shark\", \"pilot fish\"))"
      ],
      "execution_count": null,
      "outputs": []
    },
    {
      "cell_type": "markdown",
      "metadata": {
        "id": "EiWSYog9iUva"
      },
      "source": [
        "### We can pass these index numbers into the curly braces that serve as the placeholders in the original string:"
      ]
    },
    {
      "cell_type": "code",
      "metadata": {
        "id": "imIcIbgTiUva"
      },
      "source": [
        "# Reference Sample\n",
        "print(\"john the {0} has a pet {1}!\".format(\"shark\", \"pilot fish\"))\n",
        "\n",
        "print(\"john is a {}, {}, and {} {}!\".format(\"happy\", \"smiling\", \"blue\", \"shark\"))\n"
      ],
      "execution_count": null,
      "outputs": []
    },
    {
      "cell_type": "markdown",
      "metadata": {
        "id": "AGeRwyUPiUva"
      },
      "source": [
        "### Python Program to Get String Input from User\n"
      ]
    },
    {
      "cell_type": "code",
      "metadata": {
        "id": "eDiv5vXsiUvb"
      },
      "source": [
        "#Enter any string and print it\n"
      ],
      "execution_count": null,
      "outputs": []
    },
    {
      "cell_type": "markdown",
      "metadata": {
        "collapsed": true,
        "id": "Ws4gjU1ZiUvb"
      },
      "source": [
        "### Python program for conditional statements\n",
        "\n",
        "### 1)If the student receives over 65% on her test, report that her grade passes; if not, report that her grade fails"
      ]
    },
    {
      "cell_type": "code",
      "metadata": {
        "id": "oqsYvRrDiUvb"
      },
      "source": [
        "grade = 70\n",
        "\n"
      ],
      "execution_count": null,
      "outputs": []
    },
    {
      "cell_type": "code",
      "metadata": {
        "id": "f336Hj2viUvb"
      },
      "source": [
        "# Use only if\n",
        "grade = 60\n",
        "\n"
      ],
      "execution_count": null,
      "outputs": []
    },
    {
      "cell_type": "markdown",
      "metadata": {
        "id": "2mkHyvYjiUvc"
      },
      "source": [
        "### Write a python program calculate whether a bank account balance is below 0 and print appropriate message."
      ]
    },
    {
      "cell_type": "code",
      "metadata": {
        "id": "rbheA7XJiUvd"
      },
      "source": [
        "# Use if else\n",
        "balance = 522\n",
        "\n"
      ],
      "execution_count": null,
      "outputs": []
    },
    {
      "cell_type": "markdown",
      "metadata": {
        "id": "iLCusnV3iUve"
      },
      "source": [
        "### Using Else if statement"
      ]
    },
    {
      "cell_type": "code",
      "metadata": {
        "id": "TfZOYs4fiUvf"
      },
      "source": [
        "balance = 522\n",
        "\n"
      ],
      "execution_count": null,
      "outputs": []
    },
    {
      "cell_type": "markdown",
      "metadata": {
        "id": "QS7cv-tSiUvg"
      },
      "source": [
        "### Python program to print  Fibonacci series between 0 to 50."
      ]
    },
    {
      "cell_type": "code",
      "metadata": {
        "id": "WCpTregMiUvg"
      },
      "source": [
        ""
      ],
      "execution_count": null,
      "outputs": []
    },
    {
      "cell_type": "markdown",
      "metadata": {
        "id": "9rEyYdI8iUvg"
      },
      "source": [
        "### Python program to find numbers which are divisible by 7 and multiple of 5 between a range 150 to 270"
      ]
    },
    {
      "cell_type": "code",
      "metadata": {
        "id": "e41l5czUiUvh"
      },
      "source": [
        ""
      ],
      "execution_count": null,
      "outputs": []
    },
    {
      "cell_type": "markdown",
      "metadata": {
        "id": "ejyUy9vEiUvh"
      },
      "source": [
        "### Python program to Sum all the items in a list"
      ]
    },
    {
      "cell_type": "code",
      "metadata": {
        "id": "lbzYaN46iUvi"
      },
      "source": [
        "def sum_list(items):\n",
        "    # Your code here\n",
        "    return # Your variable\n",
        "print(sum_list([20,12,20,22]))"
      ],
      "execution_count": null,
      "outputs": []
    },
    {
      "cell_type": "markdown",
      "metadata": {
        "id": "7ue8jQZBiUvi"
      },
      "source": [
        "### Python program to Remove duplicates from a list."
      ]
    },
    {
      "cell_type": "code",
      "metadata": {
        "id": "keQFe68uiUvj"
      },
      "source": [
        "a = [10,20,30,40,50,60,70,40,80,50,40]\n",
        "\n"
      ],
      "execution_count": null,
      "outputs": []
    },
    {
      "cell_type": "markdown",
      "metadata": {
        "id": "_jg6jUVSiUvj"
      },
      "source": [
        "### Python program to Get the largest number from a list."
      ]
    },
    {
      "cell_type": "code",
      "metadata": {
        "id": "2qLU7Qi1iUvj"
      },
      "source": [
        "def max_num_in_list( list ):\n",
        "    # Your code\n",
        "    return # Maximum value\n",
        "print(max_num_in_list([1, 12, 28, 0]))"
      ],
      "execution_count": null,
      "outputs": []
    },
    {
      "cell_type": "markdown",
      "metadata": {
        "id": "G05qQt76iUvk"
      },
      "source": [
        "### Concatenation of Tuples."
      ]
    },
    {
      "cell_type": "code",
      "metadata": {
        "id": "W7JCZzsFiUvl"
      },
      "source": [
        "# Code for concatenating 2 tuples\n",
        " \n",
        "tuple1 = (0, 1, 2, 3)\n",
        "tuple2 = ('python', 'code')\n",
        " \n",
        "# Concatenating above two\n",
        "print('''Your code here''')"
      ],
      "execution_count": null,
      "outputs": []
    },
    {
      "cell_type": "markdown",
      "metadata": {
        "id": "Ffk1V7MMiUvn"
      },
      "source": [
        "### Nesting of Tuples."
      ]
    },
    {
      "cell_type": "code",
      "metadata": {
        "id": "Qw11tLUBiUvo"
      },
      "source": [
        "# Code for creating nested tuples\n",
        " \n",
        "tuple1 = (0, 1, 2, 3)\n",
        "tuple2 = ('python', 'code')\n",
        "tuple3  # Your code goes here\n",
        "print(tuple3)\n"
      ],
      "execution_count": null,
      "outputs": []
    },
    {
      "cell_type": "markdown",
      "metadata": {
        "id": "vc9kl-IQiUvp"
      },
      "source": [
        "### Write a Python program to add an item in a tuple."
      ]
    },
    {
      "cell_type": "code",
      "metadata": {
        "id": "cwMxFkzyiUvp"
      },
      "source": [
        "# Create a tuple & print\n",
        "\n",
        "\n",
        "#tuples are immutable, so you can not add new elements\n",
        "#using merge of tuples with the + operator you can add an element and it will create a new tuple\n",
        "\n",
        "# Adding items in a specific index\n",
        "\n"
      ],
      "execution_count": null,
      "outputs": []
    },
    {
      "cell_type": "markdown",
      "metadata": {
        "id": "NsunojqOiUv1"
      },
      "source": [
        "### Write a Python program to remove an item from a tuple."
      ]
    },
    {
      "cell_type": "code",
      "metadata": {
        "id": "JCdoWVHiiUv1"
      },
      "source": [
        "# Create a tuple and print it\n",
        "\n",
        "# Find a way to remove an item of the tuple (Hint: Use other data types)\n"
      ],
      "execution_count": null,
      "outputs": []
    },
    {
      "cell_type": "markdown",
      "metadata": {
        "id": "4WUaPPOziUv2"
      },
      "source": [
        "### Python Program to Check if a given key already exists in a dictionary."
      ]
    },
    {
      "cell_type": "code",
      "metadata": {
        "id": "jq1xUcmBiUv2"
      },
      "source": [
        "d = {1: 10, 2: 20, 3: 30, 4: 40, 5: 50, 6: 60}\n",
        "def is_key_present(x):\n",
        "  # Your code goes here\n",
        "  return # Your observation\n",
        "is_key_present(5)\n",
        "is_key_present(9)"
      ],
      "execution_count": null,
      "outputs": []
    },
    {
      "cell_type": "markdown",
      "metadata": {
        "id": "5oBVYsNUiUv2"
      },
      "source": [
        "### Write a Python script to merge two Python dictionaries."
      ]
    },
    {
      "cell_type": "code",
      "metadata": {
        "id": "q86s12RhiUv2"
      },
      "source": [
        "d1 = {'a': 100, 'b': 200}\n",
        "d2 = {'x': 300, 'y': 200}\n",
        "\n",
        "# Your code"
      ],
      "execution_count": null,
      "outputs": []
    },
    {
      "cell_type": "markdown",
      "metadata": {
        "id": "Zh-9xbwHiUv3"
      },
      "source": [
        "### Write a Python function to find the Max of three numbers."
      ]
    },
    {
      "cell_type": "code",
      "metadata": {
        "id": "tywxD9V8iUv3"
      },
      "source": [
        "def max_of_two( x, y ):\n",
        "    # Your code here\n",
        "    return # Your answer\n",
        "def max_of_three( x, y, z ):\n",
        "    # Your code here use max_of_two\n",
        "    return # Your answer\n",
        "print(max_of_three(13, 26, -5))"
      ],
      "execution_count": null,
      "outputs": []
    },
    {
      "cell_type": "markdown",
      "metadata": {
        "collapsed": true,
        "id": "1Ci1vFxmiUv3"
      },
      "source": [
        "### Write a Python program to reverse a string."
      ]
    },
    {
      "cell_type": "code",
      "metadata": {
        "id": "_-e6ABuriUv4"
      },
      "source": [
        "def string_reverse(str1):\n",
        "    # Your code goes here\n",
        "    return # Your answer\n",
        "print(string_reverse('INSAID'))"
      ],
      "execution_count": null,
      "outputs": []
    },
    {
      "cell_type": "markdown",
      "metadata": {
        "collapsed": true,
        "id": "QeHuronLiUv4"
      },
      "source": [
        "### Write a Python function to calculate the factorial of a number "
      ]
    },
    {
      "cell_type": "code",
      "metadata": {
        "id": "Q2MkYUTkiUv5"
      },
      "source": [
        "def factorial(n):\n",
        "    # Your code here\n",
        "    return # The answer\n",
        "n=int(input(\"Input a number to compute the factiorial : \"))\n",
        "print(factorial(n))"
      ],
      "execution_count": null,
      "outputs": []
    },
    {
      "cell_type": "markdown",
      "metadata": {
        "id": "duWC2ZVriUv5"
      },
      "source": [
        "### Write a Python function to sum all the numbers in a list."
      ]
    },
    {
      "cell_type": "code",
      "metadata": {
        "id": "9q8K4Vd8iUv5"
      },
      "source": [
        "def sum(numbers):\n",
        "    # Your code goes here\n",
        "    return # Your Answer\n",
        "print(sum((8, 2, 3, 0, 7)))"
      ],
      "execution_count": null,
      "outputs": []
    },
    {
      "cell_type": "markdown",
      "metadata": {
        "collapsed": true,
        "id": "SubP97ZTiUv6"
      },
      "source": [
        "### Write a Python function to check whether a number is in a given range."
      ]
    },
    {
      "cell_type": "code",
      "metadata": {
        "id": "drGFJrKziUv6"
      },
      "source": [
        "def test_range(n):\n",
        "    # Your code\n",
        "    return # Your answer \n",
        "test_range(5)"
      ],
      "execution_count": null,
      "outputs": []
    },
    {
      "cell_type": "markdown",
      "metadata": {
        "id": "4IAwLC8eiUv6"
      },
      "source": [
        "### Find the value of pi using math module."
      ]
    },
    {
      "cell_type": "code",
      "metadata": {
        "id": "vHFMu1MkiUv6"
      },
      "source": [
        "# import statement example\n",
        "# to import standard module math\n",
        "\n",
        "import math\n"
      ],
      "execution_count": null,
      "outputs": []
    },
    {
      "cell_type": "markdown",
      "metadata": {
        "id": "hxAJ32GiiUv6"
      },
      "source": [
        "### Write a Python program to read an entire text file.\n",
        "\n",
        "### Content of text.txt.\n",
        "\n",
        "### What is Python language?      \n",
        "\n",
        "#### Python is a widely used high-level, general-purpose, interpreted, dynamic programming language."
      ]
    },
    {
      "cell_type": "code",
      "metadata": {
        "id": "lA_IQvOXiUv7"
      },
      "source": [
        "def file_read(fname):\n",
        "    # Your code goes in here\n",
        "    return\n",
        "\n",
        "file_read('test.txt')"
      ],
      "execution_count": null,
      "outputs": []
    },
    {
      "cell_type": "markdown",
      "metadata": {
        "collapsed": true,
        "id": "Vd82re1AiUv7"
      },
      "source": [
        "### Write a Python program to read a file line by line and store it into a list."
      ]
    },
    {
      "cell_type": "code",
      "metadata": {
        "id": "t5QjZ1qBiUv7"
      },
      "source": [
        "def file_read(fname):\n",
        "        # Your code goes in here\n",
        "        return\n",
        "\n",
        "file_read('test.txt')"
      ],
      "execution_count": null,
      "outputs": []
    },
    {
      "cell_type": "markdown",
      "metadata": {
        "id": "sAVEIIdYiUv7"
      },
      "source": [
        "### A python program to create user-defined exception."
      ]
    },
    {
      "cell_type": "code",
      "metadata": {
        "id": "PSMSI_wpiUv7",
        "outputId": "09053f2d-c4c3-472b-af7a-840f87b256bc"
      },
      "source": [
        "class MyError(Exception):\n",
        " \n",
        "    # Constructor or Initializer\n",
        "    def __init__(self, value):\n",
        "        self.value = value\n",
        " \n",
        "    # __str__ is to print() the value\n",
        "    def __str__(self):\n",
        "        return # Your code goes here to get -> 'A New Exception occured: 0.42857142857142855'\n",
        " \n",
        "try:\n",
        "    raise(MyError(3/7))\n",
        " \n",
        "except MyError as error:\n",
        "    print(error)\n"
      ],
      "execution_count": null,
      "outputs": [
        {
          "output_type": "stream",
          "text": [
            "A New Exception occured: 0.42857142857142855\n"
          ],
          "name": "stdout"
        }
      ]
    },
    {
      "cell_type": "markdown",
      "metadata": {
        "id": "p1YpFaSciUv9"
      },
      "source": [
        "### Write a Python program to calculate the discriminant value. (b <sup>2</sup> - 4ac)"
      ]
    },
    {
      "cell_type": "code",
      "metadata": {
        "id": "Qp6E3r1tiUv9",
        "outputId": "664bb7fb-d2a7-4bc4-d388-1cddd4526270"
      },
      "source": [
        "def discriminant():\n",
        "    a_value = float(input('The a value: '))\n",
        "    b_value = float(input('The b value: '))\n",
        "    c_value = float(input('The c value: '))\n",
        "    \n",
        "    # Calculate the discriminant here\n",
        "    \n",
        "    return # The value\n",
        "\n",
        "\n",
        "discriminant()\n"
      ],
      "execution_count": null,
      "outputs": [
        {
          "output_type": "stream",
          "text": [
            "The a value: 11\n",
            "The b value: 111\n",
            "The c value: 111\n"
          ],
          "name": "stdout"
        }
      ]
    },
    {
      "cell_type": "code",
      "metadata": {
        "id": "d5-sAZYkiUv-",
        "outputId": "46f947e9-9c4b-4b77-ede3-7e42a1c4599b"
      },
      "source": [
        "print('Hello World')"
      ],
      "execution_count": null,
      "outputs": [
        {
          "output_type": "stream",
          "text": [
            "Hello World\n"
          ],
          "name": "stdout"
        }
      ]
    },
    {
      "cell_type": "code",
      "metadata": {
        "id": "y7q2tmVLiUwA"
      },
      "source": [
        "print('What am I typing are you able to see?')"
      ],
      "execution_count": null,
      "outputs": []
    }
  ]
}